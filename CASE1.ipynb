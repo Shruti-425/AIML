{
  "nbformat": 4,
  "nbformat_minor": 0,
  "metadata": {
    "colab": {
      "provenance": [],
      "authorship_tag": "ABX9TyPVGk1QBFFQ179qdHk8kSkZ",
      "include_colab_link": true
    },
    "kernelspec": {
      "name": "python3",
      "display_name": "Python 3"
    },
    "language_info": {
      "name": "python"
    }
  },
  "cells": [
    {
      "cell_type": "markdown",
      "metadata": {
        "id": "view-in-github",
        "colab_type": "text"
      },
      "source": [
        "<a href=\"https://colab.research.google.com/github/Shruti-425/AIML/blob/main/CASE1.ipynb\" target=\"_parent\"><img src=\"https://colab.research.google.com/assets/colab-badge.svg\" alt=\"Open In Colab\"/></a>"
      ]
    },
    {
      "cell_type": "code",
      "execution_count": 1,
      "metadata": {
        "id": "NRG2pbBVmDbZ"
      },
      "outputs": [],
      "source": [
        "# Import necessary libraries\n",
        "import pandas as pd\n",
        "import numpy as np\n",
        "import matplotlib.pyplot as plt\n",
        "import seaborn as sns\n",
        "from sklearn.preprocessing import MinMaxScaler"
      ]
    },
    {
      "cell_type": "code",
      "source": [
        "from google.colab import files\n",
        "uploaded =files.upload()"
      ],
      "metadata": {
        "colab": {
          "base_uri": "https://localhost:8080/",
          "height": 73
        },
        "id": "npAoZCvVmyoD",
        "outputId": "4d13b500-6e05-433b-f013-54fb300ea93a"
      },
      "execution_count": 2,
      "outputs": [
        {
          "output_type": "display_data",
          "data": {
            "text/plain": [
              "<IPython.core.display.HTML object>"
            ],
            "text/html": [
              "\n",
              "     <input type=\"file\" id=\"files-0c20b6d8-06f4-49f3-8eae-f0a3c04f9103\" name=\"files[]\" multiple disabled\n",
              "        style=\"border:none\" />\n",
              "     <output id=\"result-0c20b6d8-06f4-49f3-8eae-f0a3c04f9103\">\n",
              "      Upload widget is only available when the cell has been executed in the\n",
              "      current browser session. Please rerun this cell to enable.\n",
              "      </output>\n",
              "      <script>// Copyright 2017 Google LLC\n",
              "//\n",
              "// Licensed under the Apache License, Version 2.0 (the \"License\");\n",
              "// you may not use this file except in compliance with the License.\n",
              "// You may obtain a copy of the License at\n",
              "//\n",
              "//      http://www.apache.org/licenses/LICENSE-2.0\n",
              "//\n",
              "// Unless required by applicable law or agreed to in writing, software\n",
              "// distributed under the License is distributed on an \"AS IS\" BASIS,\n",
              "// WITHOUT WARRANTIES OR CONDITIONS OF ANY KIND, either express or implied.\n",
              "// See the License for the specific language governing permissions and\n",
              "// limitations under the License.\n",
              "\n",
              "/**\n",
              " * @fileoverview Helpers for google.colab Python module.\n",
              " */\n",
              "(function(scope) {\n",
              "function span(text, styleAttributes = {}) {\n",
              "  const element = document.createElement('span');\n",
              "  element.textContent = text;\n",
              "  for (const key of Object.keys(styleAttributes)) {\n",
              "    element.style[key] = styleAttributes[key];\n",
              "  }\n",
              "  return element;\n",
              "}\n",
              "\n",
              "// Max number of bytes which will be uploaded at a time.\n",
              "const MAX_PAYLOAD_SIZE = 100 * 1024;\n",
              "\n",
              "function _uploadFiles(inputId, outputId) {\n",
              "  const steps = uploadFilesStep(inputId, outputId);\n",
              "  const outputElement = document.getElementById(outputId);\n",
              "  // Cache steps on the outputElement to make it available for the next call\n",
              "  // to uploadFilesContinue from Python.\n",
              "  outputElement.steps = steps;\n",
              "\n",
              "  return _uploadFilesContinue(outputId);\n",
              "}\n",
              "\n",
              "// This is roughly an async generator (not supported in the browser yet),\n",
              "// where there are multiple asynchronous steps and the Python side is going\n",
              "// to poll for completion of each step.\n",
              "// This uses a Promise to block the python side on completion of each step,\n",
              "// then passes the result of the previous step as the input to the next step.\n",
              "function _uploadFilesContinue(outputId) {\n",
              "  const outputElement = document.getElementById(outputId);\n",
              "  const steps = outputElement.steps;\n",
              "\n",
              "  const next = steps.next(outputElement.lastPromiseValue);\n",
              "  return Promise.resolve(next.value.promise).then((value) => {\n",
              "    // Cache the last promise value to make it available to the next\n",
              "    // step of the generator.\n",
              "    outputElement.lastPromiseValue = value;\n",
              "    return next.value.response;\n",
              "  });\n",
              "}\n",
              "\n",
              "/**\n",
              " * Generator function which is called between each async step of the upload\n",
              " * process.\n",
              " * @param {string} inputId Element ID of the input file picker element.\n",
              " * @param {string} outputId Element ID of the output display.\n",
              " * @return {!Iterable<!Object>} Iterable of next steps.\n",
              " */\n",
              "function* uploadFilesStep(inputId, outputId) {\n",
              "  const inputElement = document.getElementById(inputId);\n",
              "  inputElement.disabled = false;\n",
              "\n",
              "  const outputElement = document.getElementById(outputId);\n",
              "  outputElement.innerHTML = '';\n",
              "\n",
              "  const pickedPromise = new Promise((resolve) => {\n",
              "    inputElement.addEventListener('change', (e) => {\n",
              "      resolve(e.target.files);\n",
              "    });\n",
              "  });\n",
              "\n",
              "  const cancel = document.createElement('button');\n",
              "  inputElement.parentElement.appendChild(cancel);\n",
              "  cancel.textContent = 'Cancel upload';\n",
              "  const cancelPromise = new Promise((resolve) => {\n",
              "    cancel.onclick = () => {\n",
              "      resolve(null);\n",
              "    };\n",
              "  });\n",
              "\n",
              "  // Wait for the user to pick the files.\n",
              "  const files = yield {\n",
              "    promise: Promise.race([pickedPromise, cancelPromise]),\n",
              "    response: {\n",
              "      action: 'starting',\n",
              "    }\n",
              "  };\n",
              "\n",
              "  cancel.remove();\n",
              "\n",
              "  // Disable the input element since further picks are not allowed.\n",
              "  inputElement.disabled = true;\n",
              "\n",
              "  if (!files) {\n",
              "    return {\n",
              "      response: {\n",
              "        action: 'complete',\n",
              "      }\n",
              "    };\n",
              "  }\n",
              "\n",
              "  for (const file of files) {\n",
              "    const li = document.createElement('li');\n",
              "    li.append(span(file.name, {fontWeight: 'bold'}));\n",
              "    li.append(span(\n",
              "        `(${file.type || 'n/a'}) - ${file.size} bytes, ` +\n",
              "        `last modified: ${\n",
              "            file.lastModifiedDate ? file.lastModifiedDate.toLocaleDateString() :\n",
              "                                    'n/a'} - `));\n",
              "    const percent = span('0% done');\n",
              "    li.appendChild(percent);\n",
              "\n",
              "    outputElement.appendChild(li);\n",
              "\n",
              "    const fileDataPromise = new Promise((resolve) => {\n",
              "      const reader = new FileReader();\n",
              "      reader.onload = (e) => {\n",
              "        resolve(e.target.result);\n",
              "      };\n",
              "      reader.readAsArrayBuffer(file);\n",
              "    });\n",
              "    // Wait for the data to be ready.\n",
              "    let fileData = yield {\n",
              "      promise: fileDataPromise,\n",
              "      response: {\n",
              "        action: 'continue',\n",
              "      }\n",
              "    };\n",
              "\n",
              "    // Use a chunked sending to avoid message size limits. See b/62115660.\n",
              "    let position = 0;\n",
              "    do {\n",
              "      const length = Math.min(fileData.byteLength - position, MAX_PAYLOAD_SIZE);\n",
              "      const chunk = new Uint8Array(fileData, position, length);\n",
              "      position += length;\n",
              "\n",
              "      const base64 = btoa(String.fromCharCode.apply(null, chunk));\n",
              "      yield {\n",
              "        response: {\n",
              "          action: 'append',\n",
              "          file: file.name,\n",
              "          data: base64,\n",
              "        },\n",
              "      };\n",
              "\n",
              "      let percentDone = fileData.byteLength === 0 ?\n",
              "          100 :\n",
              "          Math.round((position / fileData.byteLength) * 100);\n",
              "      percent.textContent = `${percentDone}% done`;\n",
              "\n",
              "    } while (position < fileData.byteLength);\n",
              "  }\n",
              "\n",
              "  // All done.\n",
              "  yield {\n",
              "    response: {\n",
              "      action: 'complete',\n",
              "    }\n",
              "  };\n",
              "}\n",
              "\n",
              "scope.google = scope.google || {};\n",
              "scope.google.colab = scope.google.colab || {};\n",
              "scope.google.colab._files = {\n",
              "  _uploadFiles,\n",
              "  _uploadFilesContinue,\n",
              "};\n",
              "})(self);\n",
              "</script> "
            ]
          },
          "metadata": {}
        },
        {
          "output_type": "stream",
          "name": "stdout",
          "text": [
            "Saving Company_Data.csv to Company_Data.csv\n"
          ]
        }
      ]
    },
    {
      "cell_type": "code",
      "source": [
        "from google.colab import drive\n",
        "file_path = 'Comapny_Data.csv'"
      ],
      "metadata": {
        "id": "TbMtnr72movA"
      },
      "execution_count": 6,
      "outputs": []
    },
    {
      "cell_type": "code",
      "source": [
        "file_path = 'Company_Data.csv'  # Replace with your dataset file path\n",
        "df = pd.read_csv(file_path)"
      ],
      "metadata": {
        "id": "DuJyHEVtmrBb"
      },
      "execution_count": 7,
      "outputs": []
    },
    {
      "cell_type": "code",
      "source": [
        "# Step 2: Exploratory Data Analysis (EDA)\n",
        "# Overview of the data\n",
        "print(df.head())\n",
        "print(df.info())\n",
        "print(df.describe())"
      ],
      "metadata": {
        "colab": {
          "base_uri": "https://localhost:8080/"
        },
        "id": "TvdmF4vWm7mA",
        "outputId": "89d6d857-1743-4cfb-e6b3-164a6af90bff"
      },
      "execution_count": 9,
      "outputs": [
        {
          "output_type": "stream",
          "name": "stdout",
          "text": [
            "   Sales  CompPrice  Income  Advertising  Population  Price ShelveLoc  Age  \\\n",
            "0   9.50        138      73           11         276    120       Bad   42   \n",
            "1  11.22        111      48           16         260     83      Good   65   \n",
            "2  10.06        113      35           10         269     80    Medium   59   \n",
            "3   7.40        117     100            4         466     97    Medium   55   \n",
            "4   4.15        141      64            3         340    128       Bad   38   \n",
            "\n",
            "   Education Urban   US  \n",
            "0         17   Yes  Yes  \n",
            "1         10   Yes  Yes  \n",
            "2         12   Yes  Yes  \n",
            "3         14   Yes  Yes  \n",
            "4         13   Yes   No  \n",
            "<class 'pandas.core.frame.DataFrame'>\n",
            "RangeIndex: 400 entries, 0 to 399\n",
            "Data columns (total 11 columns):\n",
            " #   Column       Non-Null Count  Dtype  \n",
            "---  ------       --------------  -----  \n",
            " 0   Sales        400 non-null    float64\n",
            " 1   CompPrice    400 non-null    int64  \n",
            " 2   Income       400 non-null    int64  \n",
            " 3   Advertising  400 non-null    int64  \n",
            " 4   Population   400 non-null    int64  \n",
            " 5   Price        400 non-null    int64  \n",
            " 6   ShelveLoc    400 non-null    object \n",
            " 7   Age          400 non-null    int64  \n",
            " 8   Education    400 non-null    int64  \n",
            " 9   Urban        400 non-null    object \n",
            " 10  US           400 non-null    object \n",
            "dtypes: float64(1), int64(7), object(3)\n",
            "memory usage: 34.5+ KB\n",
            "None\n",
            "            Sales   CompPrice      Income  Advertising  Population  \\\n",
            "count  400.000000  400.000000  400.000000   400.000000  400.000000   \n",
            "mean     7.496325  124.975000   68.657500     6.635000  264.840000   \n",
            "std      2.824115   15.334512   27.986037     6.650364  147.376436   \n",
            "min      0.000000   77.000000   21.000000     0.000000   10.000000   \n",
            "25%      5.390000  115.000000   42.750000     0.000000  139.000000   \n",
            "50%      7.490000  125.000000   69.000000     5.000000  272.000000   \n",
            "75%      9.320000  135.000000   91.000000    12.000000  398.500000   \n",
            "max     16.270000  175.000000  120.000000    29.000000  509.000000   \n",
            "\n",
            "            Price         Age   Education  \n",
            "count  400.000000  400.000000  400.000000  \n",
            "mean   115.795000   53.322500   13.900000  \n",
            "std     23.676664   16.200297    2.620528  \n",
            "min     24.000000   25.000000   10.000000  \n",
            "25%    100.000000   39.750000   12.000000  \n",
            "50%    117.000000   54.500000   14.000000  \n",
            "75%    131.000000   66.000000   16.000000  \n",
            "max    191.000000   80.000000   18.000000  \n"
          ]
        }
      ]
    },
    {
      "cell_type": "code",
      "source": [
        "# Assuming the column name in your CSV file is 'OrderDate', but you're using 'PurchaseDate' in your code.\n",
        "# Replace 'OrderDate' with the actual column name in your dataset if it's different.\n",
        "\n",
        "# Check the column names in your DataFrame:\n",
        "print(df.columns)\n",
        "\n",
        "# If the column is named 'OrderDate', change the code to:\n",
        "df['PurchaseDate'] = pd.to_datetime(df['Sales'])  # Replace 'OrderDate' with actual column name\n",
        "\n",
        "# If the column is named something else, replace 'OrderDate' with that name.\n",
        "\n",
        "# Rest of your code:\n",
        "df['Month'] = df['PurchaseDate'].dt.to_period('M')\n",
        "# Replace 'SalesVolume' with the actual column name representing sales volume in your dataset\n",
        "# For example, if the column is named 'Sales', use 'Sales' instead of 'SalesVolume'\n",
        "monthly_sales = df.groupby('Month')['Sales'].sum()  # Replace 'Sales' with the correct column name\n",
        "plt.figure(figsize=(10, 6))\n",
        "monthly_sales.plot(kind='line', title='Monthly Sales Trends', ylabel='Sales Volume')\n",
        "plt.show()"
      ],
      "metadata": {
        "colab": {
          "base_uri": "https://localhost:8080/",
          "height": 689
        },
        "id": "MkUHEV9BnXcE",
        "outputId": "69adb079-3e88-4022-82b0-86d4f29a973a"
      },
      "execution_count": 15,
      "outputs": [
        {
          "output_type": "stream",
          "name": "stdout",
          "text": [
            "Index(['Sales', 'CompPrice', 'Income', 'Advertising', 'Population', 'Price',\n",
            "       'ShelveLoc', 'Age', 'Education', 'Urban', 'US', 'PurchaseDate',\n",
            "       'Month'],\n",
            "      dtype='object')\n"
          ]
        },
        {
          "output_type": "stream",
          "name": "stderr",
          "text": [
            "/usr/local/lib/python3.10/dist-packages/pandas/plotting/_matplotlib/core.py:1561: UserWarning: Attempting to set identical low and high xlims makes transformation singular; automatically expanding.\n",
            "  ax.set_xlim(left, right)\n"
          ]
        },
        {
          "output_type": "display_data",
          "data": {
            "text/plain": [
              "<Figure size 1000x600 with 1 Axes>"
            ],
            "image/png": "[encoded data removed]"
          },
          "metadata": {}
        }
      ]
    },
    {
      "cell_type": "code",
      "source": [
        "# Step 1: Import necessary libraries\n",
        "import pandas as pd\n",
        "import matplotlib.pyplot as plt\n",
        "import seaborn as sns\n",
        "from sklearn.preprocessing import MinMaxScaler\n",
        "\n",
        "\n",
        "# ... (Rest of your code for data loading and EDA) ...\n",
        "\n",
        "\n",
        "# Check if 'Category' column exists. If not, try other potential names\n",
        "if 'Category' not in df.columns:\n",
        "    # List of potential alternative column names for 'Category'\n",
        "    potential_category_columns = ['ProductCategory', 'Product_Category', 'ItemCategory', 'ItemType', 'ShelveLoc']  # Added 'ShelveLoc'\n",
        "\n",
        "    # Check if any of the potential names exist in the DataFrame\n",
        "    for col_name in potential_category_columns:\n",
        "        if col_name in df.columns:\n",
        "            print(f\"Found category column with name: '{col_name}'\")\n",
        "            # Rename the column to 'Category' for consistency\n",
        "            df = df.rename(columns={col_name: 'Category'})\n",
        "            break  # Exit the loop if a category column is found\n",
        "    else:\n",
        "        # If none of the potential names are found, raise an error\n",
        "        raise KeyError(\"Category column not found in DataFrame. Please check your data.\")\n",
        "\n",
        "# Now you can safely use 'Category' in your groupby operation\n",
        "# Replace 'SalesVolume' with 'Sales' if 'SalesVolume' does not exist\n",
        "category_sales = df.groupby('Category')['Sales'].sum().sort_values(ascending=False)  # Changed 'SalesVolume' to 'Sales'\n",
        "plt.figure(figsize=(10, 6))\n",
        "category_sales.plot(kind='bar', title='Sales by Category', ylabel='Sales Volume')\n",
        "plt.show()\n",
        "\n",
        "# ... (Rest of your code for customer demographics analysis, data preprocessing, and recommendations) ..."
      ],
      "metadata": {
        "colab": {
          "base_uri": "https://localhost:8080/",
          "height": 624
        },
        "id": "6BhYpTEQoqNS",
        "outputId": "47a2a862-cef4-415f-8339-5bde77c7d66d"
      },
      "execution_count": 21,
      "outputs": [
        {
          "output_type": "stream",
          "name": "stdout",
          "text": [
            "Found category column with name: 'ShelveLoc'\n"
          ]
        },
        {
          "output_type": "display_data",
          "data": {
            "text/plain": [
              "<Figure size 1000x600 with 1 Axes>"
            ],
            "image/png": "[encoded data removed]"
          },
          "metadata": {}
        }
      ]
    }
  ]
}