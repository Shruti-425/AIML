{
  "nbformat": 4,
  "nbformat_minor": 0,
  "metadata": {
    "colab": {
      "provenance": [],
      "authorship_tag": "ABX9TyMijoipAzXPzAc9rikHlz74",
      "include_colab_link": true
    },
    "kernelspec": {
      "name": "python3",
      "display_name": "Python 3"
    },
    "language_info": {
      "name": "python"
    }
  },
  "cells": [
    {
      "cell_type": "markdown",
      "metadata": {
        "id": "view-in-github",
        "colab_type": "text"
      },
      "source": [
        "<a href=\"https://colab.research.google.com/github/Shruti-425/AIML/blob/main/Experiment_8.ipynb\" target=\"_parent\"><img src=\"https://colab.research.google.com/assets/colab-badge.svg\" alt=\"Open In Colab\"/></a>"
      ]
    },
    {
      "cell_type": "markdown",
      "source": [
        "Implement Dimensionality reduction using Principal Component\n",
        "Analysis (PCA) method."
      ],
      "metadata": {
        "id": "cuWfocbwmpAr"
      }
    },
    {
      "cell_type": "code",
      "execution_count": 1,
      "metadata": {
        "id": "WFY8mqp-k8Xm"
      },
      "outputs": [],
      "source": [
        "import pandas as pd\n",
        "import numpy as np\n",
        "import matplotlib.pyplot as plt"
      ]
    },
    {
      "cell_type": "code",
      "source": [
        "data = np.array([ [2.5, 2.4],\n",
        "                  [0.5, 0.7],\n",
        "                  [2.2, 2.9],\n",
        "                  [1.9, 2.2],\n",
        "                  [3.1, 3.0],\n",
        "                  [2.3, 2.7],\n",
        "                  [2, 1.6],\n",
        "                  [1, 1.1],\n",
        "                  [1.5, 1.6],\n",
        "                  [1.1, 0.9]])"
      ],
      "metadata": {
        "id": "zAcafhrplg-g"
      },
      "execution_count": 2,
      "outputs": []
    },
    {
      "cell_type": "code",
      "source": [
        "# Step 1: Standardize the data (manually)\n",
        "mean_data = np.mean(data, axis=0)   # Mean of each feature\n",
        "std_data = np.std(data, axis=0)     # Standard deviation of each feature"
      ],
      "metadata": {
        "id": "EpGjjcszljff"
      },
      "execution_count": 3,
      "outputs": []
    },
    {
      "cell_type": "code",
      "source": [
        "#Import the PCA class from the sklearn.decomposition module\n",
        "from sklearn.decomposition import PCA"
      ],
      "metadata": {
        "id": "c27rfnQhlm--"
      },
      "execution_count": 4,
      "outputs": []
    },
    {
      "cell_type": "code",
      "source": [
        "# Calculate standardized data\n",
        "data_standardized = (data - mean_data) / std_data"
      ],
      "metadata": {
        "id": "7VgKX13OlrHD"
      },
      "execution_count": 5,
      "outputs": []
    },
    {
      "cell_type": "code",
      "source": [
        "# Step 2: Apply PCA\n",
        "pca = PCA(n_components=2)  # Change n_components to the desired number of components\n",
        "pca.fit(data_standardized) # Changed 'data_stan' to 'data_standardized'\n",
        "data_pca = pca.transform(data_standardized)"
      ],
      "metadata": {
        "id": "VHRfpcF0ltbl"
      },
      "execution_count": 6,
      "outputs": []
    },
    {
      "cell_type": "code",
      "source": [
        "data_standardized = (data - mean_data) / std_data"
      ],
      "metadata": {
        "id": "QSUOyDk7lv26"
      },
      "execution_count": 7,
      "outputs": []
    },
    {
      "cell_type": "code",
      "source": [
        "# Step 2: Calculate the covariance matrix\n",
        "cov_matrix = np.cov(data_standardized.T)  # Covariance matrix"
      ],
      "metadata": {
        "id": "PbZ_ya2olyEu"
      },
      "execution_count": 8,
      "outputs": []
    },
    {
      "cell_type": "code",
      "source": [
        "# Step 3: Compute eigenvectors and eigenvalues of the covariance matrix\n",
        "eigenvalues, eigenvectors = np.linalg.eig(cov_matrix)"
      ],
      "metadata": {
        "id": "JZXcu0q3l0Vp"
      },
      "execution_count": 9,
      "outputs": []
    },
    {
      "cell_type": "code",
      "source": [
        "# Step 4: Sort the eigenvalues in descending order and sort eigenvectors accordingly\n",
        "sorted_indices = np.argsort(eigenvalues)[::-1]  # Indices of sorted eigenvalues in descending order\n",
        "eigenvalues = eigenvalues[sorted_indices]\n",
        "eigenvectors = eigenvectors[:, sorted_indices]"
      ],
      "metadata": {
        "id": "lz9zSxV8l4Js"
      },
      "execution_count": 10,
      "outputs": []
    },
    {
      "cell_type": "code",
      "source": [
        "# Step 5: Select the top k eigenvectors (here we take 2 principal components)\n",
        "k = 2  # Number of principal components\n",
        "eigenvectors_reduced = eigenvectors[:, :k]"
      ],
      "metadata": {
        "id": "0LTTVhJLl4yA"
      },
      "execution_count": 11,
      "outputs": []
    },
    {
      "cell_type": "code",
      "source": [
        "# Step 6: Project the data onto the new space (principal components)\n",
        "data_pca = np.dot(data_standardized, eigenvectors_reduced)"
      ],
      "metadata": {
        "id": "isj4T4b7l89e"
      },
      "execution_count": 12,
      "outputs": []
    },
    {
      "cell_type": "code",
      "source": [
        "# Step 7: Plot the transformed data\n",
        "plt.figure(figsize=(8, 6))\n",
        "plt.scatter(data_pca[:, 0], data_pca[:, 1], c='blue')\n",
        "plt.xlabel('Principal Component 1')\n",
        "plt.ylabel('Principal Component 2')\n",
        "plt.title('PCA Projection (Manual Implementation)')\n",
        "plt.grid()\n",
        "plt.show()"
      ],
      "metadata": {
        "colab": {
          "base_uri": "https://localhost:8080/",
          "height": 564
        },
        "id": "zJ83arydl9ia",
        "outputId": "47cd608b-78d5-44e2-9824-c9672d9a0a08"
      },
      "execution_count": 13,
      "outputs": [
        {
          "output_type": "display_data",
          "data": {
            "text/plain": [
              "<Figure size 800x600 with 1 Axes>"
            ],
            "image/png": "[encoded data removed]"
          },
          "metadata": {}
        }
      ]
    },
    {
      "cell_type": "code",
      "source": [
        "# Print explained variance (eigenvalues represent variance explained by each component)\n",
        "explained_variance = eigenvalues / np.sum(eigenvalues)\n",
        "print(f\"Explained variance by each principal component: {explained_variance}\")"
      ],
      "metadata": {
        "colab": {
          "base_uri": "https://localhost:8080/"
        },
        "id": "Pl9PaZ1UmAxg",
        "outputId": "1391eabc-deee-4f8d-83c9-c4d3253884c9"
      },
      "execution_count": 14,
      "outputs": [
        {
          "output_type": "stream",
          "name": "stdout",
          "text": [
            "Explained variance by each principal component: [0.96296464 0.03703536]\n"
          ]
        }
      ]
    }
  ]
}