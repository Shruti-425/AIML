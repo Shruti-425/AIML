{
  "nbformat": 4,
  "nbformat_minor": 0,
  "metadata": {
    "colab": {
      "provenance": [],
      "authorship_tag": "ABX9TyOhDWxue2UeN22B7MhBz//B",
      "include_colab_link": true
    },
    "kernelspec": {
      "name": "python3",
      "display_name": "Python 3"
    },
    "language_info": {
      "name": "python"
    }
  },
  "cells": [
    {
      "cell_type": "markdown",
      "metadata": {
        "id": "view-in-github",
        "colab_type": "text"
      },
      "source": [
        "<a href=\"https://colab.research.google.com/github/Shruti-425/AIML/blob/main/Experiment_6.ipynb\" target=\"_parent\"><img src=\"https://colab.research.google.com/assets/colab-badge.svg\" alt=\"Open In Colab\"/></a>"
      ]
    },
    {
      "cell_type": "markdown",
      "source": [
        "Implement the missing value, and outlier handling data preprocessing  techniques on the dataset imported in lab 4 or any other dataset."
      ],
      "metadata": {
        "id": "eZTSKOtCRcPn"
      }
    },
    {
      "cell_type": "code",
      "source": [
        "import pandas as pd\n",
        "import numpy as np\n",
        "import matplotlib.pyplot as plt"
      ],
      "metadata": {
        "id": "8k8nWv4TdKjc"
      },
      "execution_count": 18,
      "outputs": []
    },
    {
      "cell_type": "code",
      "source": [
        "df = pd.read_csv('student-dataset.csv')"
      ],
      "metadata": {
        "id": "DrKR8g7UdN_j"
      },
      "execution_count": 19,
      "outputs": []
    },
    {
      "cell_type": "code",
      "source": [
        "df_cleaned = df.dropna()"
      ],
      "metadata": {
        "id": "XY9p8x7-dUTN"
      },
      "execution_count": 20,
      "outputs": []
    },
    {
      "cell_type": "code",
      "source": [
        "df_filled = df.fillna(df.select_dtypes(include=np.number).mean())"
      ],
      "metadata": {
        "id": "PDe8lHoSdaHO"
      },
      "execution_count": 21,
      "outputs": []
    },
    {
      "cell_type": "code",
      "source": [
        "df_filled_median = df.fillna(df.select_dtypes(include=np.number).median())"
      ],
      "metadata": {
        "id": "wdjuFLEadjDo"
      },
      "execution_count": 22,
      "outputs": []
    },
    {
      "cell_type": "code",
      "source": [
        "df_filled_mode = df.apply(lambda x: x.fillna(x.mode()[0]) if x.dtype == 'O' else x)"
      ],
      "metadata": {
        "id": "fKBGtANNdk8A"
      },
      "execution_count": 23,
      "outputs": []
    },
    {
      "cell_type": "code",
      "source": [
        "Q1 = df.select_dtypes(include=np.number).quantile(0.25)\n",
        "Q3 = df.select_dtypes(include=np.number).quantile(0.75)\n",
        "IQR = Q3 - Q1"
      ],
      "metadata": {
        "id": "lgIS3UIzdtG1"
      },
      "execution_count": 25,
      "outputs": []
    },
    {
      "cell_type": "code",
      "source": [
        "lower_bound = Q1 - 1.5 * IQR\n",
        "upper_bound = Q3 + 1.5 * IQR"
      ],
      "metadata": {
        "id": "v9j5DErodxwF"
      },
      "execution_count": 26,
      "outputs": []
    },
    {
      "cell_type": "code",
      "source": [
        "outliers = ((df.select_dtypes(include=np.number) < lower_bound) | (df.select_dtypes(include=np.number) > upper_bound))"
      ],
      "metadata": {
        "id": "UMW4HQZwd2iI"
      },
      "execution_count": 27,
      "outputs": []
    },
    {
      "cell_type": "code",
      "source": [
        "df_no_outliers = df[~((df.select_dtypes(include=np.number) < lower_bound) | (df.select_dtypes(include=np.number) > upper_bound)).any(axis=1)]"
      ],
      "metadata": {
        "id": "N0wUMRxYd7-d"
      },
      "execution_count": 28,
      "outputs": []
    },
    {
      "cell_type": "code",
      "source": [
        "df_capped = df.copy()\n",
        "numeric_df = df.select_dtypes(include=np.number) # Select numeric columns for comparison\n",
        "\n",
        "for col in numeric_df.columns:\n",
        "    df_capped.loc[numeric_df[col] < lower_bound[col], col] = lower_bound[col]\n",
        "    df_capped.loc[numeric_df[col] > upper_bound[col], col] = upper_bound[col]"
      ],
      "metadata": {
        "colab": {
          "base_uri": "https://localhost:8080/"
        },
        "id": "rOBKQZLbeCQp",
        "outputId": "1bcc57b1-8690-445b-d2cc-4d724333b4d4"
      },
      "execution_count": 29,
      "outputs": [
        {
          "output_type": "stream",
          "name": "stderr",
          "text": [
            "<ipython-input-29-ac277238275a>:5: FutureWarning: Setting an item of incompatible dtype is deprecated and will raise an error in a future version of pandas. Value '1.25' has dtype incompatible with int64, please explicitly cast to a compatible dtype first.\n",
            "  df_capped.loc[numeric_df[col] < lower_bound[col], col] = lower_bound[col]\n",
            "<ipython-input-29-ac277238275a>:5: FutureWarning: Setting an item of incompatible dtype is deprecated and will raise an error in a future version of pandas. Value '2.5' has dtype incompatible with int64, please explicitly cast to a compatible dtype first.\n",
            "  df_capped.loc[numeric_df[col] < lower_bound[col], col] = lower_bound[col]\n"
          ]
        }
      ]
    },
    {
      "cell_type": "code",
      "source": [
        "df_imputed_outliers = df.copy()\n",
        "df_imputed_outliers[outliers] = np.nan"
      ],
      "metadata": {
        "id": "leSBNjIBeEOQ"
      },
      "execution_count": 30,
      "outputs": []
    },
    {
      "cell_type": "code",
      "source": [
        "numeric_df = df.select_dtypes(include=np.number)\n",
        "df_imputed_outliers = df_imputed_outliers.fillna(numeric_df.mean())"
      ],
      "metadata": {
        "id": "Yq0BQD8FeILY"
      },
      "execution_count": 31,
      "outputs": []
    },
    {
      "cell_type": "code",
      "source": [
        "print(\"Original DataFrame:\\n\", df)\n",
        "print(\"DataFrame after handling missing values and outliers:\\n\", df_imputed_outliers)"
      ],
      "metadata": {
        "colab": {
          "base_uri": "https://localhost:8080/"
        },
        "id": "nWpkAGK2eLNS",
        "outputId": "21ddf41c-7e6b-4aa2-f979-d87e4344e0ed"
      },
      "execution_count": 32,
      "outputs": [
        {
          "output_type": "stream",
          "name": "stdout",
          "text": [
            "Original DataFrame:\n",
            "       id               name               nationality                 city  \\\n",
            "0      0          Kiana Lor                     China               Suzhou   \n",
            "1      1     Joshua Lonaker  United States of America        Santa Clarita   \n",
            "2      2      Dakota Blanco  United States of America              Oakland   \n",
            "3      3    Natasha Yarusso  United States of America        Castro Valley   \n",
            "4      4     Brooke Cazares                    Brazil  São José dos Campos   \n",
            "..   ...                ...                       ...                  ...   \n",
            "302  302        Austin Haas  United States of America             Columbus   \n",
            "303  303    Madison Fithian  United States of America          Los Angeles   \n",
            "304  304  Zachary Mulvahill  United States of America          Los Angeles   \n",
            "305  305   Eliana Michelsen  United States of America              Oakland   \n",
            "306  306    Dane Whittemore                    Canada              Toronto   \n",
            "\n",
            "     latitude  longitude gender  ethnic.group  age  english.grade  math.grade  \\\n",
            "0       31.31     120.62      F           NaN   22            3.5         3.7   \n",
            "1       34.39    -118.54      M           NaN   22            2.9         3.2   \n",
            "2       37.80    -122.27      F           NaN   22            3.9         3.8   \n",
            "3       37.69    -122.09      F           NaN   20            3.3         2.8   \n",
            "4      -23.18     -45.88      F           NaN   21            3.7         2.6   \n",
            "..        ...        ...    ...           ...  ...            ...         ...   \n",
            "302     39.96     -83.00      M           NaN   20            3.6         3.7   \n",
            "303     34.05    -118.24      F           NaN   20            3.6         3.9   \n",
            "304     34.05    -118.24      M           NaN   20            3.2         3.4   \n",
            "305     37.80    -122.27      F           NaN   23            3.0         2.8   \n",
            "306     43.67     -79.42      M           NaN   21            3.8         3.2   \n",
            "\n",
            "     sciences.grade  language.grade  portfolio.rating  coverletter.rating  \\\n",
            "0               3.1             1.0                 4                 4.0   \n",
            "1               3.6             5.0                 5                 4.0   \n",
            "2               3.2             5.0                 3                 3.0   \n",
            "3               3.2             5.0                 5                 2.0   \n",
            "4               3.4             1.0                 4                 4.0   \n",
            "..              ...             ...               ...                 ...   \n",
            "302             3.1             5.0                 4                 5.0   \n",
            "303             4.0             5.0                 5                 5.0   \n",
            "304             3.9             5.0                 5                 5.0   \n",
            "305             2.9             5.0                 4                 4.0   \n",
            "306             4.0             5.0                 5                 4.0   \n",
            "\n",
            "     refletter.rating  \n",
            "0                   4  \n",
            "1                   5  \n",
            "2                   4  \n",
            "3                   4  \n",
            "4                   5  \n",
            "..                ...  \n",
            "302                 5  \n",
            "303                 3  \n",
            "304                 3  \n",
            "305                 5  \n",
            "306                 5  \n",
            "\n",
            "[307 rows x 16 columns]\n",
            "DataFrame after handling missing values and outliers:\n",
            "       id               name               nationality                 city  \\\n",
            "0      0          Kiana Lor                     China               Suzhou   \n",
            "1      1     Joshua Lonaker  United States of America        Santa Clarita   \n",
            "2      2      Dakota Blanco  United States of America              Oakland   \n",
            "3      3    Natasha Yarusso  United States of America        Castro Valley   \n",
            "4      4     Brooke Cazares                    Brazil  São José dos Campos   \n",
            "..   ...                ...                       ...                  ...   \n",
            "302  302        Austin Haas  United States of America             Columbus   \n",
            "303  303    Madison Fithian  United States of America          Los Angeles   \n",
            "304  304  Zachary Mulvahill  United States of America          Los Angeles   \n",
            "305  305   Eliana Michelsen  United States of America              Oakland   \n",
            "306  306    Dane Whittemore                    Canada              Toronto   \n",
            "\n",
            "      latitude   longitude gender  ethnic.group  age  english.grade  \\\n",
            "0    31.310000  -64.539121      F           NaN   22            3.5   \n",
            "1    34.390000 -118.540000      M           NaN   22            2.9   \n",
            "2    37.800000 -122.270000      F           NaN   22            3.9   \n",
            "3    37.690000 -122.090000      F           NaN   20            3.3   \n",
            "4    32.863388  -45.880000      F           NaN   21            3.7   \n",
            "..         ...         ...    ...           ...  ...            ...   \n",
            "302  39.960000  -83.000000      M           NaN   20            3.6   \n",
            "303  34.050000 -118.240000      F           NaN   20            3.6   \n",
            "304  34.050000 -118.240000      M           NaN   20            3.2   \n",
            "305  37.800000 -122.270000      F           NaN   23            3.0   \n",
            "306  43.670000  -79.420000      M           NaN   21            3.8   \n",
            "\n",
            "     math.grade  sciences.grade  language.grade  portfolio.rating  \\\n",
            "0           3.7             3.1        4.396417               4.0   \n",
            "1           3.2             3.6        5.000000               5.0   \n",
            "2           3.8             3.2        5.000000               3.0   \n",
            "3           2.8             3.2        5.000000               5.0   \n",
            "4           2.6             3.4        4.396417               4.0   \n",
            "..          ...             ...             ...               ...   \n",
            "302         3.7             3.1        5.000000               4.0   \n",
            "303         3.9             4.0        5.000000               5.0   \n",
            "304         3.4             3.9        5.000000               5.0   \n",
            "305         2.8             2.9        5.000000               4.0   \n",
            "306         3.2             4.0        5.000000               5.0   \n",
            "\n",
            "     coverletter.rating  refletter.rating  \n",
            "0              4.000000               4.0  \n",
            "1              4.000000               5.0  \n",
            "2              3.000000               4.0  \n",
            "3              4.110749               4.0  \n",
            "4              4.000000               5.0  \n",
            "..                  ...               ...  \n",
            "302            5.000000               5.0  \n",
            "303            5.000000               3.0  \n",
            "304            5.000000               3.0  \n",
            "305            4.000000               5.0  \n",
            "306            4.000000               5.0  \n",
            "\n",
            "[307 rows x 16 columns]\n"
          ]
        }
      ]
    }
  ]
}