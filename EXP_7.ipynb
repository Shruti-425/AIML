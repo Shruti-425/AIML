{
  "nbformat": 4,
  "nbformat_minor": 0,
  "metadata": {
    "colab": {
      "provenance": [],
      "authorship_tag": "ABX9TyOaOZtCLVtdp6gPf7dZFhPY",
      "include_colab_link": true
    },
    "kernelspec": {
      "name": "python3",
      "display_name": "Python 3"
    },
    "language_info": {
      "name": "python"
    }
  },
  "cells": [
    {
      "cell_type": "markdown",
      "metadata": {
        "id": "view-in-github",
        "colab_type": "text"
      },
      "source": [
        "<a href=\"https://colab.research.google.com/github/Shruti-425/AIML/blob/main/EXP_7.ipynb\" target=\"_parent\"><img src=\"https://colab.research.google.com/assets/colab-badge.svg\" alt=\"Open In Colab\"/></a>"
      ]
    },
    {
      "cell_type": "code",
      "source": [
        "import pandas as pd"
      ],
      "metadata": {
        "id": "bua60YGPexPO"
      },
      "execution_count": 1,
      "outputs": []
    },
    {
      "cell_type": "code",
      "source": [
        "from google.colab import files\n",
        "uploaded =files.upload()"
      ],
      "metadata": {
        "colab": {
          "base_uri": "https://localhost:8080/",
          "height": 73
        },
        "id": "Vmtuq1-iey6z",
        "outputId": "04acc289-2dfc-406e-b9f8-2c18c7f89c7e"
      },
      "execution_count": 8,
      "outputs": [
        {
          "output_type": "display_data",
          "data": {
            "text/plain": [
              "<IPython.core.display.HTML object>"
            ],
            "text/html": [
              "\n",
              "     <input type=\"file\" id=\"files-feac1fe2-9090-411a-bfb9-c13d68c7d62e\" name=\"files[]\" multiple disabled\n",
              "        style=\"border:none\" />\n",
              "     <output id=\"result-feac1fe2-9090-411a-bfb9-c13d68c7d62e\">\n",
              "      Upload widget is only available when the cell has been executed in the\n",
              "      current browser session. Please rerun this cell to enable.\n",
              "      </output>\n",
              "      <script>// Copyright 2017 Google LLC\n",
              "//\n",
              "// Licensed under the Apache License, Version 2.0 (the \"License\");\n",
              "// you may not use this file except in compliance with the License.\n",
              "// You may obtain a copy of the License at\n",
              "//\n",
              "//      http://www.apache.org/licenses/LICENSE-2.0\n",
              "//\n",
              "// Unless required by applicable law or agreed to in writing, software\n",
              "// distributed under the License is distributed on an \"AS IS\" BASIS,\n",
              "// WITHOUT WARRANTIES OR CONDITIONS OF ANY KIND, either express or implied.\n",
              "// See the License for the specific language governing permissions and\n",
              "// limitations under the License.\n",
              "\n",
              "/**\n",
              " * @fileoverview Helpers for google.colab Python module.\n",
              " */\n",
              "(function(scope) {\n",
              "function span(text, styleAttributes = {}) {\n",
              "  const element = document.createElement('span');\n",
              "  element.textContent = text;\n",
              "  for (const key of Object.keys(styleAttributes)) {\n",
              "    element.style[key] = styleAttributes[key];\n",
              "  }\n",
              "  return element;\n",
              "}\n",
              "\n",
              "// Max number of bytes which will be uploaded at a time.\n",
              "const MAX_PAYLOAD_SIZE = 100 * 1024;\n",
              "\n",
              "function _uploadFiles(inputId, outputId) {\n",
              "  const steps = uploadFilesStep(inputId, outputId);\n",
              "  const outputElement = document.getElementById(outputId);\n",
              "  // Cache steps on the outputElement to make it available for the next call\n",
              "  // to uploadFilesContinue from Python.\n",
              "  outputElement.steps = steps;\n",
              "\n",
              "  return _uploadFilesContinue(outputId);\n",
              "}\n",
              "\n",
              "// This is roughly an async generator (not supported in the browser yet),\n",
              "// where there are multiple asynchronous steps and the Python side is going\n",
              "// to poll for completion of each step.\n",
              "// This uses a Promise to block the python side on completion of each step,\n",
              "// then passes the result of the previous step as the input to the next step.\n",
              "function _uploadFilesContinue(outputId) {\n",
              "  const outputElement = document.getElementById(outputId);\n",
              "  const steps = outputElement.steps;\n",
              "\n",
              "  const next = steps.next(outputElement.lastPromiseValue);\n",
              "  return Promise.resolve(next.value.promise).then((value) => {\n",
              "    // Cache the last promise value to make it available to the next\n",
              "    // step of the generator.\n",
              "    outputElement.lastPromiseValue = value;\n",
              "    return next.value.response;\n",
              "  });\n",
              "}\n",
              "\n",
              "/**\n",
              " * Generator function which is called between each async step of the upload\n",
              " * process.\n",
              " * @param {string} inputId Element ID of the input file picker element.\n",
              " * @param {string} outputId Element ID of the output display.\n",
              " * @return {!Iterable<!Object>} Iterable of next steps.\n",
              " */\n",
              "function* uploadFilesStep(inputId, outputId) {\n",
              "  const inputElement = document.getElementById(inputId);\n",
              "  inputElement.disabled = false;\n",
              "\n",
              "  const outputElement = document.getElementById(outputId);\n",
              "  outputElement.innerHTML = '';\n",
              "\n",
              "  const pickedPromise = new Promise((resolve) => {\n",
              "    inputElement.addEventListener('change', (e) => {\n",
              "      resolve(e.target.files);\n",
              "    });\n",
              "  });\n",
              "\n",
              "  const cancel = document.createElement('button');\n",
              "  inputElement.parentElement.appendChild(cancel);\n",
              "  cancel.textContent = 'Cancel upload';\n",
              "  const cancelPromise = new Promise((resolve) => {\n",
              "    cancel.onclick = () => {\n",
              "      resolve(null);\n",
              "    };\n",
              "  });\n",
              "\n",
              "  // Wait for the user to pick the files.\n",
              "  const files = yield {\n",
              "    promise: Promise.race([pickedPromise, cancelPromise]),\n",
              "    response: {\n",
              "      action: 'starting',\n",
              "    }\n",
              "  };\n",
              "\n",
              "  cancel.remove();\n",
              "\n",
              "  // Disable the input element since further picks are not allowed.\n",
              "  inputElement.disabled = true;\n",
              "\n",
              "  if (!files) {\n",
              "    return {\n",
              "      response: {\n",
              "        action: 'complete',\n",
              "      }\n",
              "    };\n",
              "  }\n",
              "\n",
              "  for (const file of files) {\n",
              "    const li = document.createElement('li');\n",
              "    li.append(span(file.name, {fontWeight: 'bold'}));\n",
              "    li.append(span(\n",
              "        `(${file.type || 'n/a'}) - ${file.size} bytes, ` +\n",
              "        `last modified: ${\n",
              "            file.lastModifiedDate ? file.lastModifiedDate.toLocaleDateString() :\n",
              "                                    'n/a'} - `));\n",
              "    const percent = span('0% done');\n",
              "    li.appendChild(percent);\n",
              "\n",
              "    outputElement.appendChild(li);\n",
              "\n",
              "    const fileDataPromise = new Promise((resolve) => {\n",
              "      const reader = new FileReader();\n",
              "      reader.onload = (e) => {\n",
              "        resolve(e.target.result);\n",
              "      };\n",
              "      reader.readAsArrayBuffer(file);\n",
              "    });\n",
              "    // Wait for the data to be ready.\n",
              "    let fileData = yield {\n",
              "      promise: fileDataPromise,\n",
              "      response: {\n",
              "        action: 'continue',\n",
              "      }\n",
              "    };\n",
              "\n",
              "    // Use a chunked sending to avoid message size limits. See b/62115660.\n",
              "    let position = 0;\n",
              "    do {\n",
              "      const length = Math.min(fileData.byteLength - position, MAX_PAYLOAD_SIZE);\n",
              "      const chunk = new Uint8Array(fileData, position, length);\n",
              "      position += length;\n",
              "\n",
              "      const base64 = btoa(String.fromCharCode.apply(null, chunk));\n",
              "      yield {\n",
              "        response: {\n",
              "          action: 'append',\n",
              "          file: file.name,\n",
              "          data: base64,\n",
              "        },\n",
              "      };\n",
              "\n",
              "      let percentDone = fileData.byteLength === 0 ?\n",
              "          100 :\n",
              "          Math.round((position / fileData.byteLength) * 100);\n",
              "      percent.textContent = `${percentDone}% done`;\n",
              "\n",
              "    } while (position < fileData.byteLength);\n",
              "  }\n",
              "\n",
              "  // All done.\n",
              "  yield {\n",
              "    response: {\n",
              "      action: 'complete',\n",
              "    }\n",
              "  };\n",
              "}\n",
              "\n",
              "scope.google = scope.google || {};\n",
              "scope.google.colab = scope.google.colab || {};\n",
              "scope.google.colab._files = {\n",
              "  _uploadFiles,\n",
              "  _uploadFilesContinue,\n",
              "};\n",
              "})(self);\n",
              "</script> "
            ]
          },
          "metadata": {}
        },
        {
          "output_type": "stream",
          "name": "stdout",
          "text": [
            "Saving student-dataset.csv to student-dataset.csv\n"
          ]
        }
      ]
    },
    {
      "cell_type": "code",
      "source": [
        "from google.colab import drive\n",
        "file_path = '/content/drive/My Drive/student-dataset.csv'"
      ],
      "metadata": {
        "id": "JlW9d2mG1s0x"
      },
      "execution_count": 9,
      "outputs": []
    },
    {
      "cell_type": "code",
      "source": [
        "file_path = 'student-dataset.csv'  # Replace with your dataset file path\n",
        "df = pd.read_csv(file_path)"
      ],
      "metadata": {
        "id": "5RktXuRA1x5V"
      },
      "execution_count": 10,
      "outputs": []
    },
    {
      "cell_type": "code",
      "source": [
        "print(\"Number of rows and columns:\", df.shape)\n",
        "print(\"Data types of each column:\\n\",df.dtypes)"
      ],
      "metadata": {
        "colab": {
          "base_uri": "https://localhost:8080/"
        },
        "id": "d4BjuoHnk4Bo",
        "outputId": "2ed6fbc8-096c-49a3-eb67-0bf0d49da1df"
      },
      "execution_count": 12,
      "outputs": [
        {
          "output_type": "stream",
          "name": "stdout",
          "text": [
            "Number of rows and columns: (307, 16)\n",
            "Data types of each column:\n",
            " id                      int64\n",
            "name                   object\n",
            "nationality            object\n",
            "city                   object\n",
            "latitude              float64\n",
            "longitude             float64\n",
            "gender                 object\n",
            "ethnic.group          float64\n",
            "age                     int64\n",
            "english.grade         float64\n",
            "math.grade            float64\n",
            "sciences.grade        float64\n",
            "language.grade        float64\n",
            "portfolio.rating        int64\n",
            "coverletter.rating    float64\n",
            "refletter.rating        int64\n",
            "dtype: object\n"
          ]
        }
      ]
    },
    {
      "cell_type": "code",
      "source": [
        "numerical_columns = df.select_dtypes(include=['number']).columns\n",
        "categorical_columns = df.select_dtypes(include=['object']).columns\n",
        "print(\"Numerical columns:\", numerical_columns)\n",
        "print(\"Categorical columns:\", categorical_columns)"
      ],
      "metadata": {
        "colab": {
          "base_uri": "https://localhost:8080/"
        },
        "id": "jf5hb-Yj2DHW",
        "outputId": "bea8debb-e3a8-4caf-bb41-482f8c099292"
      },
      "execution_count": 13,
      "outputs": [
        {
          "output_type": "stream",
          "name": "stdout",
          "text": [
            "Numerical columns: Index(['id', 'latitude', 'longitude', 'ethnic.group', 'age', 'english.grade',\n",
            "       'math.grade', 'sciences.grade', 'language.grade', 'portfolio.rating',\n",
            "       'coverletter.rating', 'refletter.rating'],\n",
            "      dtype='object')\n",
            "Categorical columns: Index(['name', 'nationality', 'city', 'gender'], dtype='object')\n"
          ]
        }
      ]
    },
    {
      "cell_type": "code",
      "source": [
        "from sklearn.preprocessing import MinMaxScaler\n",
        "scaler = MinMaxScaler()\n",
        "df[numerical_columns] = scaler.fit_transform(df[numerical_columns])"
      ],
      "metadata": {
        "colab": {
          "base_uri": "https://localhost:8080/"
        },
        "id": "39uTMdW_2Idn",
        "outputId": "41d564f6-7ee0-40ab-feb0-4da9a17ce1ec"
      },
      "execution_count": 15,
      "outputs": [
        {
          "output_type": "stream",
          "name": "stderr",
          "text": [
            "/usr/local/lib/python3.10/dist-packages/sklearn/utils/_array_api.py:695: RuntimeWarning: All-NaN slice encountered\n",
            "  return xp.asarray(numpy.nanmin(X, axis=axis))\n",
            "/usr/local/lib/python3.10/dist-packages/sklearn/utils/_array_api.py:712: RuntimeWarning: All-NaN slice encountered\n",
            "  return xp.asarray(numpy.nanmax(X, axis=axis))\n"
          ]
        }
      ]
    },
    {
      "cell_type": "code",
      "source": [
        "numerical_columns = df.select_dtypes(include=['number']).columns # Replace 'dataset' with 'df'\n",
        "categorical_columns = df.select_dtypes(include=['object']).columns # Replace 'dataset' with 'df'\n",
        "print(\"Numerical columns:\", numerical_columns)\n",
        "print(\"Categorical columns:\", categorical_columns)"
      ],
      "metadata": {
        "colab": {
          "base_uri": "https://localhost:8080/"
        },
        "id": "_40-VA5a6eAa",
        "outputId": "2bc2f08b-7914-4886-ff4d-27c73a916f79"
      },
      "execution_count": 17,
      "outputs": [
        {
          "output_type": "stream",
          "name": "stdout",
          "text": [
            "Numerical columns: Index(['id', 'latitude', 'longitude', 'ethnic.group', 'age', 'english.grade',\n",
            "       'math.grade', 'sciences.grade', 'language.grade', 'portfolio.rating',\n",
            "       'coverletter.rating', 'refletter.rating'],\n",
            "      dtype='object')\n",
            "Categorical columns: Index(['name', 'nationality', 'city', 'gender'], dtype='object')\n"
          ]
        }
      ]
    },
    {
      "cell_type": "code",
      "source": [
        "from sklearn.preprocessing import MinMaxScaler\n",
        "scaler = MinMaxScaler()\n",
        "df[numerical_columns] = scaler.fit_transform(df[numerical_columns])"
      ],
      "metadata": {
        "colab": {
          "base_uri": "https://localhost:8080/"
        },
        "id": "rwCuD5nU77r5",
        "outputId": "bd8e3290-ab6d-4ca5-a577-90b3819ee52e"
      },
      "execution_count": 18,
      "outputs": [
        {
          "output_type": "stream",
          "name": "stderr",
          "text": [
            "/usr/local/lib/python3.10/dist-packages/sklearn/utils/_array_api.py:695: RuntimeWarning: All-NaN slice encountered\n",
            "  return xp.asarray(numpy.nanmin(X, axis=axis))\n",
            "/usr/local/lib/python3.10/dist-packages/sklearn/utils/_array_api.py:712: RuntimeWarning: All-NaN slice encountered\n",
            "  return xp.asarray(numpy.nanmax(X, axis=axis))\n"
          ]
        }
      ]
    },
    {
      "cell_type": "code",
      "source": [
        "from sklearn.preprocessing import StandardScaler\n",
        "scaler = StandardScaler()\n",
        "df[numerical_columns] = scaler.fit_transform(df[numerical_columns])"
      ],
      "metadata": {
        "colab": {
          "base_uri": "https://localhost:8080/"
        },
        "id": "6UPDc1OW8GcV",
        "outputId": "f26be84a-51a3-4386-fba2-5e3a7f01ef58"
      },
      "execution_count": 19,
      "outputs": [
        {
          "output_type": "stream",
          "name": "stderr",
          "text": [
            "/usr/local/lib/python3.10/dist-packages/sklearn/utils/extmath.py:1137: RuntimeWarning: invalid value encountered in divide\n",
            "  updated_mean = (last_sum + new_sum) / updated_sample_count\n",
            "/usr/local/lib/python3.10/dist-packages/sklearn/utils/extmath.py:1142: RuntimeWarning: invalid value encountered in divide\n",
            "  T = new_sum / new_sample_count\n",
            "/usr/local/lib/python3.10/dist-packages/sklearn/utils/extmath.py:1162: RuntimeWarning: invalid value encountered in divide\n",
            "  new_unnormalized_variance -= correction**2 / new_sample_count\n"
          ]
        }
      ]
    },
    {
      "cell_type": "code",
      "source": [
        "print(\"Dataset after scaling:\\n\", df.head())"
      ],
      "metadata": {
        "colab": {
          "base_uri": "https://localhost:8080/"
        },
        "id": "6ksRD9m88adl",
        "outputId": "a3c6934f-80c2-4660-8d99-11b87a9a9b8a"
      },
      "execution_count": 20,
      "outputs": [
        {
          "output_type": "stream",
          "name": "stdout",
          "text": [
            "Dataset after scaling:\n",
            "          id             name               nationality                 city  \\\n",
            "0 -1.726418        Kiana Lor                     China               Suzhou   \n",
            "1 -1.715134   Joshua Lonaker  United States of America        Santa Clarita   \n",
            "2 -1.703851    Dakota Blanco  United States of America              Oakland   \n",
            "3 -1.692567  Natasha Yarusso  United States of America        Castro Valley   \n",
            "4 -1.681283   Brooke Cazares                    Brazil  São José dos Campos   \n",
            "\n",
            "   latitude  longitude gender  ethnic.group       age  english.grade  \\\n",
            "0 -0.115266   2.282626      F           NaN  0.028757       0.242250   \n",
            "1  0.113279  -0.665718      M           NaN  0.028757      -0.873312   \n",
            "2  0.366310  -0.711701      F           NaN  0.028757       0.985958   \n",
            "3  0.358148  -0.709482      F           NaN -1.576407      -0.129604   \n",
            "4 -4.158577   0.230028      F           NaN -0.773825       0.614104   \n",
            "\n",
            "   math.grade  sciences.grade  language.grade  portfolio.rating  \\\n",
            "0    0.600064       -0.681907       -3.413999          0.014052   \n",
            "1   -0.450219        0.301859        0.606708          1.092527   \n",
            "2    0.810121       -0.485154        0.606708         -1.064423   \n",
            "3   -1.290446       -0.485154        0.606708          1.092527   \n",
            "4   -1.710559       -0.091647       -3.413999          0.014052   \n",
            "\n",
            "   coverletter.rating  refletter.rating  \n",
            "0           -0.134634         -0.224691  \n",
            "1           -0.134634          0.964624  \n",
            "2           -1.350302         -0.224691  \n",
            "3           -2.565969         -0.224691  \n",
            "4           -0.134634          0.964624  \n"
          ]
        }
      ]
    },
    {
      "cell_type": "code",
      "source": [
        "df = pd.get_dummies(df, columns=categorical_columns)"
      ],
      "metadata": {
        "id": "wJ09om4EAX4q"
      },
      "execution_count": 21,
      "outputs": []
    },
    {
      "cell_type": "code",
      "source": [
        "print(\"Dataset after one-hot encoding:\\n\", df.head())"
      ],
      "metadata": {
        "colab": {
          "base_uri": "https://localhost:8080/"
        },
        "id": "Ne0GQjs6Ae7Q",
        "outputId": "3d37347e-b590-4813-8326-f7bef182afaf"
      },
      "execution_count": 22,
      "outputs": [
        {
          "output_type": "stream",
          "name": "stdout",
          "text": [
            "Dataset after one-hot encoding:\n",
            "          id  latitude  longitude  ethnic.group       age  english.grade  \\\n",
            "0 -1.726418 -0.115266   2.282626           NaN  0.028757       0.242250   \n",
            "1 -1.715134  0.113279  -0.665718           NaN  0.028757      -0.873312   \n",
            "2 -1.703851  0.366310  -0.711701           NaN  0.028757       0.985958   \n",
            "3 -1.692567  0.358148  -0.709482           NaN -1.576407      -0.129604   \n",
            "4 -1.681283 -4.158577   0.230028           NaN -0.773825       0.614104   \n",
            "\n",
            "   math.grade  sciences.grade  language.grade  portfolio.rating  ...  \\\n",
            "0    0.600064       -0.681907       -3.413999          0.014052  ...   \n",
            "1   -0.450219        0.301859        0.606708          1.092527  ...   \n",
            "2    0.810121       -0.485154        0.606708         -1.064423  ...   \n",
            "3   -1.290446       -0.485154        0.606708          1.092527  ...   \n",
            "4   -1.710559       -0.091647       -3.413999          0.014052  ...   \n",
            "\n",
            "   city_Walnut Creek  city_Warsaw  city_Waukegan  city_West Jordan  \\\n",
            "0              False        False          False             False   \n",
            "1              False        False          False             False   \n",
            "2              False        False          False             False   \n",
            "3              False        False          False             False   \n",
            "4              False        False          False             False   \n",
            "\n",
            "   city_Wuhan  city_Zamora  city_Zülpich  gender_F  gender_M  gender_other  \n",
            "0       False        False         False      True     False         False  \n",
            "1       False        False         False     False      True         False  \n",
            "2       False        False         False      True     False         False  \n",
            "3       False        False         False      True     False         False  \n",
            "4       False        False         False      True     False         False  \n",
            "\n",
            "[5 rows x 514 columns]\n"
          ]
        }
      ]
    },
    {
      "cell_type": "code",
      "source": [
        "# Display original dataset's first 5 rows\n",
        "original_df = pd.read_csv(\"student-dataset.csv\")\n",
        "print(\"First 5 rows before preprocessing:\\n\", original_df.head())\n",
        "\n",
        "# Display processed dataset's first 5 rows\n",
        "print(\"First 5 rows after preprocessing:\\n\", df.head())"
      ],
      "metadata": {
        "colab": {
          "base_uri": "https://localhost:8080/"
        },
        "id": "AHTQ01hCAiBD",
        "outputId": "f43d8390-6ea7-4b10-8bd1-d5038bfa0504"
      },
      "execution_count": 23,
      "outputs": [
        {
          "output_type": "stream",
          "name": "stdout",
          "text": [
            "First 5 rows before preprocessing:\n",
            "    id             name               nationality                 city  \\\n",
            "0   0        Kiana Lor                     China               Suzhou   \n",
            "1   1   Joshua Lonaker  United States of America        Santa Clarita   \n",
            "2   2    Dakota Blanco  United States of America              Oakland   \n",
            "3   3  Natasha Yarusso  United States of America        Castro Valley   \n",
            "4   4   Brooke Cazares                    Brazil  São José dos Campos   \n",
            "\n",
            "   latitude  longitude gender  ethnic.group  age  english.grade  math.grade  \\\n",
            "0     31.31     120.62      F           NaN   22            3.5         3.7   \n",
            "1     34.39    -118.54      M           NaN   22            2.9         3.2   \n",
            "2     37.80    -122.27      F           NaN   22            3.9         3.8   \n",
            "3     37.69    -122.09      F           NaN   20            3.3         2.8   \n",
            "4    -23.18     -45.88      F           NaN   21            3.7         2.6   \n",
            "\n",
            "   sciences.grade  language.grade  portfolio.rating  coverletter.rating  \\\n",
            "0             3.1             1.0                 4                 4.0   \n",
            "1             3.6             5.0                 5                 4.0   \n",
            "2             3.2             5.0                 3                 3.0   \n",
            "3             3.2             5.0                 5                 2.0   \n",
            "4             3.4             1.0                 4                 4.0   \n",
            "\n",
            "   refletter.rating  \n",
            "0                 4  \n",
            "1                 5  \n",
            "2                 4  \n",
            "3                 4  \n",
            "4                 5  \n",
            "First 5 rows after preprocessing:\n",
            "          id  latitude  longitude  ethnic.group       age  english.grade  \\\n",
            "0 -1.726418 -0.115266   2.282626           NaN  0.028757       0.242250   \n",
            "1 -1.715134  0.113279  -0.665718           NaN  0.028757      -0.873312   \n",
            "2 -1.703851  0.366310  -0.711701           NaN  0.028757       0.985958   \n",
            "3 -1.692567  0.358148  -0.709482           NaN -1.576407      -0.129604   \n",
            "4 -1.681283 -4.158577   0.230028           NaN -0.773825       0.614104   \n",
            "\n",
            "   math.grade  sciences.grade  language.grade  portfolio.rating  ...  \\\n",
            "0    0.600064       -0.681907       -3.413999          0.014052  ...   \n",
            "1   -0.450219        0.301859        0.606708          1.092527  ...   \n",
            "2    0.810121       -0.485154        0.606708         -1.064423  ...   \n",
            "3   -1.290446       -0.485154        0.606708          1.092527  ...   \n",
            "4   -1.710559       -0.091647       -3.413999          0.014052  ...   \n",
            "\n",
            "   city_Walnut Creek  city_Warsaw  city_Waukegan  city_West Jordan  \\\n",
            "0              False        False          False             False   \n",
            "1              False        False          False             False   \n",
            "2              False        False          False             False   \n",
            "3              False        False          False             False   \n",
            "4              False        False          False             False   \n",
            "\n",
            "   city_Wuhan  city_Zamora  city_Zülpich  gender_F  gender_M  gender_other  \n",
            "0       False        False         False      True     False         False  \n",
            "1       False        False         False     False      True         False  \n",
            "2       False        False         False      True     False         False  \n",
            "3       False        False         False      True     False         False  \n",
            "4       False        False         False      True     False         False  \n",
            "\n",
            "[5 rows x 514 columns]\n"
          ]
        }
      ]
    },
    {
      "cell_type": "code",
      "source": [
        "print(\"Memory usage before preprocessing:\", original_df.memory_usage(deep=True).sum())\n",
        "print(\"Memory usage after preprocessing:\", df.memory_usage(deep=True).sum())"
      ],
      "metadata": {
        "colab": {
          "base_uri": "https://localhost:8080/"
        },
        "id": "QTiZ-nl_Bc6S",
        "outputId": "2b321719-20ab-4279-e483-770b7ef60b19"
      },
      "execution_count": 24,
      "outputs": [
        {
          "output_type": "stream",
          "name": "stdout",
          "text": [
            "Memory usage before preprocessing: 112682\n",
            "Memory usage after preprocessing: 183714\n"
          ]
        }
      ]
    }
  ]
}