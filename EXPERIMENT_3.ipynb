{
  "nbformat": 4,
  "nbformat_minor": 0,
  "metadata": {
    "colab": {
      "provenance": [],
      "authorship_tag": "ABX9TyMscoPvwoGV8UxZggNUdR0E",
      "include_colab_link": true
    },
    "kernelspec": {
      "name": "python3",
      "display_name": "Python 3"
    },
    "language_info": {
      "name": "python"
    }
  },
  "cells": [
    {
      "cell_type": "markdown",
      "metadata": {
        "id": "view-in-github",
        "colab_type": "text"
      },
      "source": [
        "<a href=\"https://colab.research.google.com/github/Shruti-425/AIML/blob/main/EXPERIMENT_3.ipynb\" target=\"_parent\"><img src=\"https://colab.research.google.com/assets/colab-badge.svg\" alt=\"Open In Colab\"/></a>"
      ]
    },
    {
      "cell_type": "code",
      "execution_count": 1,
      "metadata": {
        "id": "x_eZ-v1RKE7g"
      },
      "outputs": [],
      "source": [
        "import numpy as np\n",
        "import pandas as pd\n",
        "from sklearn.preprocessing import StandardScaler\n",
        "from sklearn.cluster import KMeans, DBSCAN, AgglomerativeClustering\n",
        "from sklearn.metrics import silhouette_score, davies_bouldin_score\n",
        "from sklearn.model_selection import train_test_split\n",
        "import matplotlib.pyplot as plt\n",
        "import seaborn as sns"
      ]
    },
    {
      "cell_type": "code",
      "source": [
        "from google.colab import files\n",
        "uploaded =files.upload()"
      ],
      "metadata": {
        "colab": {
          "base_uri": "https://localhost:8080/",
          "height": 73
        },
        "id": "q4W2dRNZP9om",
        "outputId": "782a323c-64f2-4870-a5ed-6be37cac145f"
      },
      "execution_count": 2,
      "outputs": [
        {
          "output_type": "display_data",
          "data": {
            "text/plain": [
              "<IPython.core.display.HTML object>"
            ],
            "text/html": [
              "\n",
              "     <input type=\"file\" id=\"files-a9c155fd-9f18-4273-8ef6-6ab9eab9bbfc\" name=\"files[]\" multiple disabled\n",
              "        style=\"border:none\" />\n",
              "     <output id=\"result-a9c155fd-9f18-4273-8ef6-6ab9eab9bbfc\">\n",
              "      Upload widget is only available when the cell has been executed in the\n",
              "      current browser session. Please rerun this cell to enable.\n",
              "      </output>\n",
              "      <script>// Copyright 2017 Google LLC\n",
              "//\n",
              "// Licensed under the Apache License, Version 2.0 (the \"License\");\n",
              "// you may not use this file except in compliance with the License.\n",
              "// You may obtain a copy of the License at\n",
              "//\n",
              "//      http://www.apache.org/licenses/LICENSE-2.0\n",
              "//\n",
              "// Unless required by applicable law or agreed to in writing, software\n",
              "// distributed under the License is distributed on an \"AS IS\" BASIS,\n",
              "// WITHOUT WARRANTIES OR CONDITIONS OF ANY KIND, either express or implied.\n",
              "// See the License for the specific language governing permissions and\n",
              "// limitations under the License.\n",
              "\n",
              "/**\n",
              " * @fileoverview Helpers for google.colab Python module.\n",
              " */\n",
              "(function(scope) {\n",
              "function span(text, styleAttributes = {}) {\n",
              "  const element = document.createElement('span');\n",
              "  element.textContent = text;\n",
              "  for (const key of Object.keys(styleAttributes)) {\n",
              "    element.style[key] = styleAttributes[key];\n",
              "  }\n",
              "  return element;\n",
              "}\n",
              "\n",
              "// Max number of bytes which will be uploaded at a time.\n",
              "const MAX_PAYLOAD_SIZE = 100 * 1024;\n",
              "\n",
              "function _uploadFiles(inputId, outputId) {\n",
              "  const steps = uploadFilesStep(inputId, outputId);\n",
              "  const outputElement = document.getElementById(outputId);\n",
              "  // Cache steps on the outputElement to make it available for the next call\n",
              "  // to uploadFilesContinue from Python.\n",
              "  outputElement.steps = steps;\n",
              "\n",
              "  return _uploadFilesContinue(outputId);\n",
              "}\n",
              "\n",
              "// This is roughly an async generator (not supported in the browser yet),\n",
              "// where there are multiple asynchronous steps and the Python side is going\n",
              "// to poll for completion of each step.\n",
              "// This uses a Promise to block the python side on completion of each step,\n",
              "// then passes the result of the previous step as the input to the next step.\n",
              "function _uploadFilesContinue(outputId) {\n",
              "  const outputElement = document.getElementById(outputId);\n",
              "  const steps = outputElement.steps;\n",
              "\n",
              "  const next = steps.next(outputElement.lastPromiseValue);\n",
              "  return Promise.resolve(next.value.promise).then((value) => {\n",
              "    // Cache the last promise value to make it available to the next\n",
              "    // step of the generator.\n",
              "    outputElement.lastPromiseValue = value;\n",
              "    return next.value.response;\n",
              "  });\n",
              "}\n",
              "\n",
              "/**\n",
              " * Generator function which is called between each async step of the upload\n",
              " * process.\n",
              " * @param {string} inputId Element ID of the input file picker element.\n",
              " * @param {string} outputId Element ID of the output display.\n",
              " * @return {!Iterable<!Object>} Iterable of next steps.\n",
              " */\n",
              "function* uploadFilesStep(inputId, outputId) {\n",
              "  const inputElement = document.getElementById(inputId);\n",
              "  inputElement.disabled = false;\n",
              "\n",
              "  const outputElement = document.getElementById(outputId);\n",
              "  outputElement.innerHTML = '';\n",
              "\n",
              "  const pickedPromise = new Promise((resolve) => {\n",
              "    inputElement.addEventListener('change', (e) => {\n",
              "      resolve(e.target.files);\n",
              "    });\n",
              "  });\n",
              "\n",
              "  const cancel = document.createElement('button');\n",
              "  inputElement.parentElement.appendChild(cancel);\n",
              "  cancel.textContent = 'Cancel upload';\n",
              "  const cancelPromise = new Promise((resolve) => {\n",
              "    cancel.onclick = () => {\n",
              "      resolve(null);\n",
              "    };\n",
              "  });\n",
              "\n",
              "  // Wait for the user to pick the files.\n",
              "  const files = yield {\n",
              "    promise: Promise.race([pickedPromise, cancelPromise]),\n",
              "    response: {\n",
              "      action: 'starting',\n",
              "    }\n",
              "  };\n",
              "\n",
              "  cancel.remove();\n",
              "\n",
              "  // Disable the input element since further picks are not allowed.\n",
              "  inputElement.disabled = true;\n",
              "\n",
              "  if (!files) {\n",
              "    return {\n",
              "      response: {\n",
              "        action: 'complete',\n",
              "      }\n",
              "    };\n",
              "  }\n",
              "\n",
              "  for (const file of files) {\n",
              "    const li = document.createElement('li');\n",
              "    li.append(span(file.name, {fontWeight: 'bold'}));\n",
              "    li.append(span(\n",
              "        `(${file.type || 'n/a'}) - ${file.size} bytes, ` +\n",
              "        `last modified: ${\n",
              "            file.lastModifiedDate ? file.lastModifiedDate.toLocaleDateString() :\n",
              "                                    'n/a'} - `));\n",
              "    const percent = span('0% done');\n",
              "    li.appendChild(percent);\n",
              "\n",
              "    outputElement.appendChild(li);\n",
              "\n",
              "    const fileDataPromise = new Promise((resolve) => {\n",
              "      const reader = new FileReader();\n",
              "      reader.onload = (e) => {\n",
              "        resolve(e.target.result);\n",
              "      };\n",
              "      reader.readAsArrayBuffer(file);\n",
              "    });\n",
              "    // Wait for the data to be ready.\n",
              "    let fileData = yield {\n",
              "      promise: fileDataPromise,\n",
              "      response: {\n",
              "        action: 'continue',\n",
              "      }\n",
              "    };\n",
              "\n",
              "    // Use a chunked sending to avoid message size limits. See b/62115660.\n",
              "    let position = 0;\n",
              "    do {\n",
              "      const length = Math.min(fileData.byteLength - position, MAX_PAYLOAD_SIZE);\n",
              "      const chunk = new Uint8Array(fileData, position, length);\n",
              "      position += length;\n",
              "\n",
              "      const base64 = btoa(String.fromCharCode.apply(null, chunk));\n",
              "      yield {\n",
              "        response: {\n",
              "          action: 'append',\n",
              "          file: file.name,\n",
              "          data: base64,\n",
              "        },\n",
              "      };\n",
              "\n",
              "      let percentDone = fileData.byteLength === 0 ?\n",
              "          100 :\n",
              "          Math.round((position / fileData.byteLength) * 100);\n",
              "      percent.textContent = `${percentDone}% done`;\n",
              "\n",
              "    } while (position < fileData.byteLength);\n",
              "  }\n",
              "\n",
              "  // All done.\n",
              "  yield {\n",
              "    response: {\n",
              "      action: 'complete',\n",
              "    }\n",
              "  };\n",
              "}\n",
              "\n",
              "scope.google = scope.google || {};\n",
              "scope.google.colab = scope.google.colab || {};\n",
              "scope.google.colab._files = {\n",
              "  _uploadFiles,\n",
              "  _uploadFilesContinue,\n",
              "};\n",
              "})(self);\n",
              "</script> "
            ]
          },
          "metadata": {}
        },
        {
          "output_type": "stream",
          "name": "stdout",
          "text": [
            "Saving student-dataset.csv to student-dataset.csv\n"
          ]
        }
      ]
    },
    {
      "cell_type": "code",
      "source": [
        "from google.colab import drive\n",
        "file_path = '/content/drive/My Drive/student-dataset.csv'"
      ],
      "metadata": {
        "id": "oeI1BoOlQSc6"
      },
      "execution_count": 3,
      "outputs": []
    },
    {
      "cell_type": "code",
      "source": [
        "file_path = 'student-dataset.csv'  # Replace with your dataset file path\n",
        "df = pd.read_csv(file_path)"
      ],
      "metadata": {
        "id": "HCSr03WkQ4bI"
      },
      "execution_count": 4,
      "outputs": []
    },
    {
      "cell_type": "code",
      "source": [
        "# Assume `df` contains the dataframe loaded from the CSV file\n",
        "# Select numerical features from the dataframe\n",
        "numerical_features = df.select_dtypes(include=np.number)\n",
        "\n",
        "# Normalize the numerical features\n",
        "scaler = StandardScaler()\n",
        "data_scaled = scaler.fit_transform(numerical_features)"
      ],
      "metadata": {
        "colab": {
          "base_uri": "https://localhost:8080/"
        },
        "id": "KsnM22JmRZjf",
        "outputId": "2a043232-6996-4756-ab8b-d3f0c5dcbdbb"
      },
      "execution_count": 6,
      "outputs": [
        {
          "output_type": "stream",
          "name": "stderr",
          "text": [
            "/usr/local/lib/python3.10/dist-packages/sklearn/utils/extmath.py:1137: RuntimeWarning: invalid value encountered in divide\n",
            "  updated_mean = (last_sum + new_sum) / updated_sample_count\n",
            "/usr/local/lib/python3.10/dist-packages/sklearn/utils/extmath.py:1142: RuntimeWarning: invalid value encountered in divide\n",
            "  T = new_sum / new_sample_count\n",
            "/usr/local/lib/python3.10/dist-packages/sklearn/utils/extmath.py:1162: RuntimeWarning: invalid value encountered in divide\n",
            "  new_unnormalized_variance -= correction**2 / new_sample_count\n"
          ]
        }
      ]
    },
    {
      "cell_type": "code",
      "source": [
        "# Split into training and testing subsets\n",
        "X_train, X_test = train_test_split(data_scaled, test_size=0.3, random_state=42)"
      ],
      "metadata": {
        "id": "jZ7zm92IRyGy"
      },
      "execution_count": 15,
      "outputs": []
    },
    {
      "cell_type": "code",
      "source": [
        "# Define clustering algorithms\n",
        "clustering_algorithms = {\n",
        "    \"K-Means\": KMeans(n_clusters=3, random_state=42),\n",
        "    \"DBSCAN\": DBSCAN(eps=0.5, min_samples=5),\n",
        "    \"Agglomerative\": AgglomerativeClustering(n_clusters=3)\n",
        "}"
      ],
      "metadata": {
        "id": "7ZeswG8nSMcg"
      },
      "execution_count": 8,
      "outputs": []
    },
    {
      "cell_type": "code",
      "source": [
        "#Evaluate and visualize results\n",
        "results = {}"
      ],
      "metadata": {
        "id": "fvLc_t2mTIQq"
      },
      "execution_count": 11,
      "outputs": []
    },
    {
      "cell_type": "code",
      "source": [
        "# Assume `df` contains the dataframe loaded from the CSV file\n",
        "# Select numerical features from the dataframe\n",
        "numerical_features = df.select_dtypes(include=np.number)\n",
        "\n",
        "# Impute missing values using SimpleImputer before scaling\n",
        "from sklearn.impute import SimpleImputer  # Import SimpleImputer\n",
        "imputer = SimpleImputer(strategy='mean') # Create an imputer with a strategy (e.g., 'mean')\n",
        "numerical_features_imputed = imputer.fit_transform(numerical_features) # Fit and transform the imputer on numerical features\n",
        "\n",
        "# Normalize the numerical features (now without NaNs)\n",
        "scaler = StandardScaler()\n",
        "data_scaled = scaler.fit_transform(numerical_features_imputed) # Use the imputed data here"
      ],
      "metadata": {
        "colab": {
          "base_uri": "https://localhost:8080/"
        },
        "id": "Gc5rav3HSki6",
        "outputId": "77449c0f-dd00-41c8-8f63-9da4056f4eac"
      },
      "execution_count": 17,
      "outputs": [
        {
          "output_type": "stream",
          "name": "stderr",
          "text": [
            "/usr/local/lib/python3.10/dist-packages/sklearn/impute/_base.py:598: UserWarning: Skipping features without any observed values: ['ethnic.group']. At least one non-missing value is needed for imputation with strategy='mean'.\n",
            "  warnings.warn(\n"
          ]
        }
      ]
    },
    {
      "cell_type": "code",
      "source": [
        "# Assume `df` contains the dataframe loaded from the CSV file\n",
        "# Select numerical features from the dataframe\n",
        "numerical_features = df.select_dtypes(include=np.number)\n",
        "\n",
        "# Impute missing values using SimpleImputer before scaling\n",
        "from sklearn.impute import SimpleImputer  # Import SimpleImputer\n",
        "imputer = SimpleImputer(strategy='mean') # Create an imputer with a strategy (e.g., 'mean')\n",
        "numerical_features_imputed = imputer.fit_transform(numerical_features) # Fit and transform the imputer on numerical features\n",
        "\n",
        "# Normalize the numerical features (now without NaNs)\n",
        "scaler = StandardScaler()\n",
        "data_scaled = scaler.fit_transform(numerical_features_imputed) # Use the imputed data here\n",
        "\n",
        "# Split into training and testing subsets\n",
        "# Impute missing values *after* splitting to ensure no NaNs are introduced during the split\n",
        "from sklearn.model_selection import train_test_split # Import train_test_split\n",
        "X_train, X_test = train_test_split(data_scaled, test_size=0.3, random_state=42)\n",
        "\n",
        "# Re-apply imputation if any NaNs slipped in\n",
        "imputer = SimpleImputer(strategy='mean')  # Create a new imputer instance\n",
        "X_train = imputer.fit_transform(X_train)\n",
        "X_test = imputer.transform(X_test)  # Use transform for X_test to avoid data leakage"
      ],
      "metadata": {
        "colab": {
          "base_uri": "https://localhost:8080/"
        },
        "id": "2jKdGnqRUWy6",
        "outputId": "4ececa19-426e-46ca-89c9-babedc994a80"
      },
      "execution_count": 25,
      "outputs": [
        {
          "output_type": "stream",
          "name": "stderr",
          "text": [
            "/usr/local/lib/python3.10/dist-packages/sklearn/impute/_base.py:598: UserWarning: Skipping features without any observed values: ['ethnic.group']. At least one non-missing value is needed for imputation with strategy='mean'.\n",
            "  warnings.warn(\n"
          ]
        }
      ]
    },
    {
      "cell_type": "code",
      "source": [
        "import matplotlib.pyplot as plt\n",
        "import numpy as np\n",
        "from sklearn.cluster import KMeans, DBSCAN, AgglomerativeClustering\n",
        "from sklearn.preprocessing import StandardScaler\n",
        "from sklearn.impute import SimpleImputer\n",
        "from sklearn.model_selection import train_test_split\n",
        "\n",
        "\n",
        "# Assuming df is your DataFrame and clustering_algorithms is defined\n",
        "\n",
        "# Preprocessing (as before)\n",
        "numerical_features = df.select_dtypes(include=np.number)\n",
        "imputer = SimpleImputer(strategy='mean')\n",
        "numerical_features_imputed = imputer.fit_transform(numerical_features)\n",
        "scaler = StandardScaler()\n",
        "data_scaled = scaler.fit_transform(numerical_features_imputed)\n",
        "X_train, X_test = train_test_split(data_scaled, test_size=0.3, random_state=42)\n",
        "\n",
        "# ... (rest of the code) ...\n",
        "\n",
        "\n",
        "# Choose a clustering algorithm (e.g., K-Means)\n",
        "name = \"K-Means\"\n",
        "algorithm = clustering_algorithms[name]\n",
        "\n",
        "# Fit the algorithm to your data and get cluster labels\n",
        "labels = algorithm.fit_predict(X_train) # This line is crucial\n",
        "\n",
        "# Now you can use 'labels' in your scatter plot:\n",
        "plt.figure(figsize=(8, 6))\n",
        "plt.scatter(X_train[:, 0], X_train[:, 1], c=labels, cmap='viridis', s=50)\n",
        "plt.title(f\"{name} Clustering Results\")\n",
        "plt.xlabel(\"Feature 1\")\n",
        "plt.ylabel(\"Feature 2\")\n",
        "plt.colorbar(label='Cluster')\n",
        "plt.show()"
      ],
      "metadata": {
        "colab": {
          "base_uri": "https://localhost:8080/",
          "height": 620
        },
        "id": "HUqA8Mb9UvRo",
        "outputId": "b31c3aae-5494-47fa-ab2e-5b4fd4ef5b80"
      },
      "execution_count": 28,
      "outputs": [
        {
          "output_type": "stream",
          "name": "stderr",
          "text": [
            "/usr/local/lib/python3.10/dist-packages/sklearn/impute/_base.py:598: UserWarning: Skipping features without any observed values: ['ethnic.group']. At least one non-missing value is needed for imputation with strategy='mean'.\n",
            "  warnings.warn(\n"
          ]
        },
        {
          "output_type": "display_data",
          "data": {
            "text/plain": [
              "<Figure size 800x600 with 2 Axes>"
            ],
            "image/png": "[encoded data removed]"
          },
          "metadata": {}
        }
      ]
    },
    {
      "cell_type": "code",
      "source": [
        "# Test the baseline clustering on test data\n",
        "kmeans = KMeans(n_clusters=3, random_state=42).fit(X_train)\n",
        "test_labels = kmeans.predict(X_test)\n",
        "\n",
        "# Evaluation on test set\n",
        "test_silhouette = silhouette_score(X_test, test_labels)\n",
        "test_davies_bouldin = davies_bouldin_score(X_test, test_labels)\n",
        "\n",
        "print(f\"K-Means Baseline (Test Data):\")\n",
        "print(f\"  Silhouette Score: {test_silhouette:.2f}\")\n",
        "print(f\"  Davies-Bouldin Index: {test_davies_bouldin:.2f}\")"
      ],
      "metadata": {
        "colab": {
          "base_uri": "https://localhost:8080/"
        },
        "id": "bQ_SLtEfVOrk",
        "outputId": "522449c8-1bf0-4c65-cbf1-3458a0b39b39"
      },
      "execution_count": 29,
      "outputs": [
        {
          "output_type": "stream",
          "name": "stdout",
          "text": [
            "K-Means Baseline (Test Data):\n",
            "  Silhouette Score: 0.19\n",
            "  Davies-Bouldin Index: 2.00\n"
          ]
        }
      ]
    }
  ]
}